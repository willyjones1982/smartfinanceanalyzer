{
 "cells": [
  {
   "cell_type": "code",
   "execution_count": 8,
   "id": "ae007d25",
   "metadata": {},
   "outputs": [
    {
     "name": "stdout",
     "output_type": "stream",
     "text": [
      "Transaction: ['60', '2021-01-24', '549', '4539.42', 'credit', 'Religious happen start single carry.']\n"
     ]
    }
   ],
   "source": [
    "import csv\n",
    "\n",
    "def load_transactions(filename='financial_transactions.csv'):\n",
    "    transactions = []\n",
    "    with open(filename, newline='') as csvfile:\n",
    "        reader = csv.reader(csvfile)\n",
    "        for row in reader:\n",
    "            transactions.append(row)\n",
    "    return transactions\n",
    "\n",
    "def get_transaction_line(line_number, filename='financial_transactions.csv'):\n",
    "    transactions = load_transactions(filename)\n",
    "    if 0 <= line_number < len(transactions):\n",
    "        return transactions[line_number]\n",
    "    else:\n",
    "        print(f\"Line number {line_number} is out of bounds.\")\n",
    "        return None\n",
    "    \n",
    "try:\n",
    "    user_input = input(\"Enter the line number you want to view: \")\n",
    "    line_number = int(user_input)\n",
    "    line = get_transaction_line(line_number)\n",
    "    if line:\n",
    "        print(\"Transaction:\", line)\n",
    "except ValueError:\n",
    "    print(\"Please enter a valid integer.\")"
   ]
  }
 ],
 "metadata": {
  "kernelspec": {
   "display_name": "Python 3",
   "language": "python",
   "name": "python3"
  },
  "language_info": {
   "codemirror_mode": {
    "name": "ipython",
    "version": 3
   },
   "file_extension": ".py",
   "mimetype": "text/x-python",
   "name": "python",
   "nbconvert_exporter": "python",
   "pygments_lexer": "ipython3",
   "version": "3.13.3"
  }
 },
 "nbformat": 4,
 "nbformat_minor": 5
}
